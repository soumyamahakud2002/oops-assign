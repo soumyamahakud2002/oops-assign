{
  "nbformat": 4,
  "nbformat_minor": 0,
  "metadata": {
    "colab": {
      "provenance": []
    },
    "kernelspec": {
      "name": "python3",
      "display_name": "Python 3"
    },
    "language_info": {
      "name": "python"
    }
  },
  "cells": [
    {
      "cell_type": "code",
      "execution_count": null,
      "metadata": {
        "id": "6FP3Ujrxx5_x"
      },
      "outputs": [],
      "source": [
        "                    Python OOPs Questions"
      ]
    },
    {
      "cell_type": "markdown",
      "source": [
        "1. What is Object-Oriented Programming (OOP)?\n",
        "Object-Oriented Programming (OOP) is a programming paradigm that revolves around the concept of objects and classes. It provides a way to design and organize code that simulates real-world objects and systems.\n",
        "\n",
        "2. What is a class in OOP?\n",
        "A class is a blueprint or a template that defines the properties and behavior of an object. It is a collection of variables and methods that are used to create objects.\n",
        "\n",
        "3. What is an object in OOP?\n",
        "An object is an instance of a class, and has its own set of attributes (data) and methods (functions). Objects are the actual entities that are created from the class blueprint.\n",
        "\n",
        "4. What is the difference between abstraction and encapsulation?\n",
        "Abstraction is the concept of showing only the necessary information to the outside world while hiding the implementation details. Encapsulation is the concept of bundling data and methods that operate on that data within a single unit, making it harder for other parts of the program to access or modify them directly.\n",
        "\n",
        "5. What are dunder methods in Python?\n",
        "Dunder methods, also known as special methods or magic methods, are methods in Python that are surrounded by double underscores (i.e., __init__, __str__, etc.). They are used to define the behavior of objects and are typically called automatically by Python.\n",
        "\n",
        "6. Explain the concept of inheritance in OOP.\n",
        "Inheritance is a mechanism in OOP where a new class (the subclass or derived class) inherits the properties and behavior of an existing class (the superclass or base class). The subclass can also add new properties and behavior or override the ones inherited from the superclass.\n",
        "\n",
        "7. What is polymorphism in OOP?\n",
        "Polymorphism is the ability of an object to take on multiple forms, depending on the context in which it is used. This can be achieved through method overloading or method overriding.\n",
        "\n",
        "8. How is encapsulation achieved in Python?\n",
        "Encapsulation is achieved in Python by using classes and objects, and by making data and methods private (using a single underscore prefix) or protected (using a double underscore prefix).\n",
        "\n",
        "9. What is a constructor in Python?\n",
        "A constructor is a special method in Python that is called when an object is created from a class. It is used to initialize the object's attributes and is typically defined using the __init__ method.\n",
        "\n",
        "10. What are class and static methods in Python?\n",
        "Class methods are methods that are bound to the class rather than the instance, and are used to define alternative constructors or other class-level behavior. Static methods are methods that belong to a class rather than an instance, and are used to define utility functions that don't depend on the instance state.\n",
        "\n",
        "11. What is method overloading in Python?\n",
        "Method overloading is a feature in some programming languages that allows multiple methods with the same name to be defined, as long as they have different parameter lists. Python does not support method overloading in the classical sense, but it can be achieved using optional arguments or the *args syntax.\n",
        "\n",
        "12. What is method overriding in OOP?\n",
        "Method overriding is a feature in OOP where a subclass provides a different implementation of a method that is already defined in its superclass.\n",
        "\n",
        "13. What is a property decorator in Python?\n",
        "A property decorator is a way to customize access to instance data in Python. It allows you to define getter, setter, and deleter methods for an attribute, which can be used to implement validation, logging, or other behavior.\n",
        "\n",
        "14. Why is polymorphism important in OOP?\n",
        "Polymorphism is important in OOP because it allows for more flexibility and generic code, making it easier to write programs that can work with different types of data.\n",
        "\n",
        "15. What is an abstract class in Python?\n",
        "An abstract class is a class that cannot be instantiated and is intended to be inherited by other classes. It can define abstract methods, which are methods that must be implemented by any subclass.\n",
        "\n",
        "16. What are the advantages of OOP?\n",
        "The advantages of OOP include code reusability, modularity, and ease of maintenance, as well as improved readability and understandability of code.\n",
        "\n",
        "17. What is the difference between a class variable and an instance variable?\n",
        "A class variable is a variable that is shared by all instances of a class, while an instance variable is a variable that is unique to each instance of a class.\n",
        "\n",
        "18. What is multiple inheritance in Python?\n",
        "Multiple inheritance is a feature in Python where a class can inherit from multiple base classes.\n",
        "\n",
        "19. Explain the purpose of __str__ and __repr__ methods in Python.\n",
        "The __str__ method is used to provide a human-readable representation of an object, while the __repr__ method is used to provide a more formal representation of an object that can be used for debugging or logging.\n",
        "20. What is the significance of the super() function in Python?\n",
        "The super() function in Python is used to access the methods and properties of a parent class (also known as a superclass) from a child class (also known as a subclass). It allows you to override methods in the parent class while still calling the original method.\n",
        "\n",
        "21. What is the significance of the __del__ method in Python?\n",
        "The __del__ method in Python is a special method that is called when an object is about to be destroyed. It is used to release any resources that the object is holding onto, such as file handles or network connections.\n",
        "\n",
        "22. What is the difference between @staticmethod and @classmethod in Python?\n",
        "@staticmethod and @classmethod are both decorators in Python that can be used to define methods that belong to a class rather than an instance of the class. The main difference between the two is that @classmethod takes the class as an argument, while @staticmethod does not.\n",
        "\n",
        "23. How does polymorphism work in Python with inheritance?\n",
        "Polymorphism in Python with inheritance allows you to define methods in a parent class that can be overridden by child classes. This allows you to write code that can work with different types of objects, without having to know the specific type of object at compile time.\n",
        "\n",
        "24. What is method chaining in Python OOP?\n",
        "Method chaining in Python OOP is a technique where multiple methods are called on the same object in a single statement. This can make the code more readable and easier to write.\n",
        "\n",
        "25. What is the purpose of the __call__ method in Python?\n",
        "The __call__ method in Python is a special method that allows an object to be called like a function. This can be useful for creating objects that need to be called multiple times, or for creating objects that need to be used as functions."
      ],
      "metadata": {
        "id": "CIGr6wy2y-vX"
      }
    },
    {
      "cell_type": "markdown",
      "source": [
        "                 Practical Questions"
      ],
      "metadata": {
        "id": "7tC_ICqDzUvm"
      }
    },
    {
      "cell_type": "markdown",
      "source": [
        "1. Create a parent class Animal with a method speak() that prints a generic message. Create a child class Dog that overrides the speak() method to print \"Bark!\".\n"
      ],
      "metadata": {
        "id": "l7WOQKIL0y0y"
      }
    },
    {
      "cell_type": "code",
      "source": [
        "class Animal:\n",
        "    def speak(self):\n",
        "        print(\"Generic animal sound\")\n",
        "\n",
        "class Dog(Animal):\n",
        "    def speak(self):\n",
        "        print(\"Bark!\")\n",
        "\n",
        "dog = Dog()\n",
        "dog.speak()\n"
      ],
      "metadata": {
        "colab": {
          "base_uri": "https://localhost:8080/"
        },
        "id": "-I2L1X-Y04aF",
        "outputId": "128b0c70-e3f4-40d3-fe91-c02590950812"
      },
      "execution_count": 1,
      "outputs": [
        {
          "output_type": "stream",
          "name": "stdout",
          "text": [
            "Bark!\n"
          ]
        }
      ]
    },
    {
      "cell_type": "code",
      "source": [
        "2. Write a program to create an abstract class Shape with a method area(). Derive classes Circle and Rectangle from it and implement the area() method in both.\n"
      ],
      "metadata": {
        "id": "psSuRZCQ08qU"
      },
      "execution_count": null,
      "outputs": []
    },
    {
      "cell_type": "code",
      "source": [
        "from abc import ABC, abstractmethod\n",
        "import math\n",
        "\n",
        "class Shape(ABC):\n",
        "    @abstractmethod\n",
        "    def area(self):\n",
        "        pass\n",
        "\n",
        "class Circle(Shape):\n",
        "    def __init__(self, radius):\n",
        "        self.radius = radius\n",
        "\n",
        "    def area(self):\n",
        "        return math.pi * self.radius ** 2\n",
        "\n",
        "class Rectangle(Shape):\n",
        "    def __init__(self, length, width):\n",
        "        self.length = length\n",
        "        self.width = width\n",
        "\n",
        "    def area(self):\n",
        "        return self.length * self.width\n",
        "\n",
        "circle = Circle(5)\n",
        "rectangle = Rectangle(4, 5)\n",
        "\n",
        "print(\"Circle area:\", circle.area())\n",
        "print(\"Rectangle area:\", rectangle.area())\n"
      ],
      "metadata": {
        "colab": {
          "base_uri": "https://localhost:8080/"
        },
        "id": "1NOZU45Z1G_q",
        "outputId": "c265bf2a-0cb1-454a-d905-df0e8d1c6a95"
      },
      "execution_count": 2,
      "outputs": [
        {
          "output_type": "stream",
          "name": "stdout",
          "text": [
            "Circle area: 78.53981633974483\n",
            "Rectangle area: 20\n"
          ]
        }
      ]
    },
    {
      "cell_type": "code",
      "source": [
        "3. Implement a multi-level inheritance scenario where a class Vehicle has an attribute type. Derive a class Car and further derive a class ElectricCar that adds a battery attribute.\n"
      ],
      "metadata": {
        "id": "U00YVaN31NM5"
      },
      "execution_count": null,
      "outputs": []
    },
    {
      "cell_type": "code",
      "source": [
        "class Vehicle:\n",
        "    def __init__(self, type):\n",
        "        self.type = type\n",
        "\n",
        "class Car(Vehicle):\n",
        "    def __init__(self, type, brand):\n",
        "        super().__init__(type)\n",
        "        self.brand = brand\n",
        "\n",
        "class ElectricCar(Car):\n",
        "    def __init__(self, type, brand, battery):\n",
        "        super().__init__(type, brand)\n",
        "        self.battery = battery\n",
        "\n",
        "electric_car = ElectricCar(\"Electric\", \"Tesla\", \"Lithium-ion\")\n",
        "print(\"Type:\", electric_car.type)\n",
        "print(\"Brand:\", electric_car.brand)\n",
        "print(\"Battery:\", electric_car.battery)\n"
      ],
      "metadata": {
        "colab": {
          "base_uri": "https://localhost:8080/"
        },
        "id": "eeLTE3mB1Smn",
        "outputId": "52fb345b-49d5-462a-a301-15fc9319793b"
      },
      "execution_count": 3,
      "outputs": [
        {
          "output_type": "stream",
          "name": "stdout",
          "text": [
            "Type: Electric\n",
            "Brand: Tesla\n",
            "Battery: Lithium-ion\n"
          ]
        }
      ]
    },
    {
      "cell_type": "code",
      "source": [
        "4. Demonstrate polymorphism by creating a base class Bird with a method fly(). Create two derived classes Sparrow and Penguin that override the fly() method.\n",
        "\n"
      ],
      "metadata": {
        "id": "j9cE6rEd1Vza"
      },
      "execution_count": null,
      "outputs": []
    },
    {
      "cell_type": "code",
      "source": [
        "class Bird:\n",
        "    def fly(self):\n",
        "        print(\"Generic bird flying\")\n",
        "\n",
        "class Sparrow(Bird):\n",
        "    def fly(self):\n",
        "        print(\"Sparrow flying\")\n",
        "\n",
        "class Penguin(Bird):\n",
        "    def fly(self):\n",
        "        print(\"Penguin cannot fly\")\n",
        "\n",
        "sparrow = Sparrow()\n",
        "penguin = Penguin()\n",
        "\n",
        "sparrow.fly()\n",
        "penguin.fly()\n"
      ],
      "metadata": {
        "colab": {
          "base_uri": "https://localhost:8080/"
        },
        "id": "dUUlQcgZ1c7Q",
        "outputId": "138c8e68-96d8-44f3-a263-83192bd4395d"
      },
      "execution_count": 4,
      "outputs": [
        {
          "output_type": "stream",
          "name": "stdout",
          "text": [
            "Sparrow flying\n",
            "Penguin cannot fly\n"
          ]
        }
      ]
    },
    {
      "cell_type": "code",
      "source": [
        "5. Write a program to demonstrate encapsulation by creating a class BankAccount with private attributes balance and methods to deposit, withdraw, and check balance.\n"
      ],
      "metadata": {
        "id": "1yGImMwq1hU8"
      },
      "execution_count": null,
      "outputs": []
    },
    {
      "cell_type": "code",
      "source": [
        "class BankAccount:\n",
        "    def __init__(self):\n",
        "        self.__balance = 0\n",
        "\n",
        "    def deposit(self, amount):\n",
        "        self.__balance += amount\n",
        "\n",
        "    def withdraw(self, amount):\n",
        "        if amount > self.__balance:\n",
        "            print(\"Insufficient balance\")\n",
        "        else:\n",
        "            self.__balance -= amount\n",
        "\n",
        "    def check_balance(self):\n",
        "        return self.__balance\n",
        "\n",
        "account = BankAccount()\n",
        "account.deposit(1000)\n",
        "account.withdraw(500)\n",
        "print(\"Balance:\", account.check_balance())\n"
      ],
      "metadata": {
        "colab": {
          "base_uri": "https://localhost:8080/"
        },
        "id": "aKhfth3c1lsA",
        "outputId": "83292a0a-f03b-4b8d-edcb-ad09624b4c93"
      },
      "execution_count": 5,
      "outputs": [
        {
          "output_type": "stream",
          "name": "stdout",
          "text": [
            "Balance: 500\n"
          ]
        }
      ]
    },
    {
      "cell_type": "code",
      "source": [
        "6. Demonstrate runtime polymorphism using a method play() in a base class Instrument. Derive classes Guitar and Piano that implement their own version of play()"
      ],
      "metadata": {
        "id": "4SneBBTH1o6_"
      },
      "execution_count": null,
      "outputs": []
    },
    {
      "cell_type": "code",
      "source": [
        "class Instrument:\n",
        "    def play(self):\n",
        "        print(\"Generic instrument playing\")\n",
        "\n",
        "class Guitar(Instrument):\n",
        "    def play(self):\n",
        "        print(\"Guitar playing\")\n",
        "\n",
        "class Piano(Instrument):\n",
        "    def play(self):\n",
        "        print(\"Piano playing\")\n",
        "\n",
        "guitar = Guitar()\n",
        "piano = Piano()\n",
        "\n",
        "guitar.play()\n",
        "piano.play()\n",
        "\n"
      ],
      "metadata": {
        "colab": {
          "base_uri": "https://localhost:8080/"
        },
        "id": "-xfGR2JA1t9r",
        "outputId": "70a8f801-a0fc-4c0a-c864-99a62e53331d"
      },
      "execution_count": 6,
      "outputs": [
        {
          "output_type": "stream",
          "name": "stdout",
          "text": [
            "Guitar playing\n",
            "Piano playing\n"
          ]
        }
      ]
    },
    {
      "cell_type": "code",
      "source": [
        "7. Create a class MathOperations with a class method add_numbers() to add two numbers and a static method subtract_numbers() to subtract two numbers.\n"
      ],
      "metadata": {
        "id": "mColxNhL1xJL"
      },
      "execution_count": null,
      "outputs": []
    },
    {
      "cell_type": "code",
      "source": [
        "class MathOperations:\n",
        "    @classmethod\n",
        "    def add_numbers(cls, num1, num2):\n",
        "        return num1 + num2\n",
        "\n",
        "    @staticmethod\n",
        "    def subtract_numbers(num1, num2):\n",
        "        return num1 - num2\n",
        "\n",
        "print(\"Addition:\", MathOperations.add_numbers(5, 3))\n",
        "print(\"Subtraction:\", MathOperations.subtract_numbers(10, 4))\n",
        "\n"
      ],
      "metadata": {
        "colab": {
          "base_uri": "https://localhost:8080/"
        },
        "id": "o15LlhoX106H",
        "outputId": "0746f60c-c37b-4cc3-ca5a-e61e9ae6c9cd"
      },
      "execution_count": 7,
      "outputs": [
        {
          "output_type": "stream",
          "name": "stdout",
          "text": [
            "Addition: 8\n",
            "Subtraction: 6\n"
          ]
        }
      ]
    },
    {
      "cell_type": "code",
      "source": [
        "8. Implement a class Person with a class method to count the total number of persons created.\n"
      ],
      "metadata": {
        "id": "ydnby0CI14ws"
      },
      "execution_count": null,
      "outputs": []
    },
    {
      "cell_type": "code",
      "source": [
        "class Person:\n",
        "    count = 0\n",
        "\n",
        "    def __init__(self):\n",
        "        Person.count += 1\n",
        "\n",
        "    @classmethod\n",
        "    def total_persons(cls):\n",
        "        return cls.count\n",
        "\n",
        "person1 = Person()\n",
        "person2 = Person()\n",
        "\n",
        "print(\"Total persons:\", Person.total_persons())\n"
      ],
      "metadata": {
        "colab": {
          "base_uri": "https://localhost:8080/"
        },
        "id": "ijbvrkKw17Zm",
        "outputId": "151038f9-3342-4c40-c271-f99e7ad909ae"
      },
      "execution_count": 8,
      "outputs": [
        {
          "output_type": "stream",
          "name": "stdout",
          "text": [
            "Total persons: 2\n"
          ]
        }
      ]
    },
    {
      "cell_type": "code",
      "source": [
        "\n",
        "9. Write a class Fraction with attributes numerator and denominator. Override the str method to display the fraction as 'numerator/denominator\".\n"
      ],
      "metadata": {
        "id": "EJcDZJty1-lO"
      },
      "execution_count": null,
      "outputs": []
    },
    {
      "cell_type": "code",
      "source": [
        "class Fraction:\n",
        "    def __init__(self, numerator, denominator):\n",
        "        self.numerator = numerator\n",
        "        self.denominator = denominator\n",
        "\n",
        "    def __str__(self):\n",
        "        return f\"{self.numerator}/{self.denominator}\"\n",
        "\n",
        "fraction = Fraction(3, 4)\n",
        "print(fraction)"
      ],
      "metadata": {
        "colab": {
          "base_uri": "https://localhost:8080/"
        },
        "id": "_DBGWDdl2CF0",
        "outputId": "81b3a28b-0e9e-4eeb-ca40-fe720eeb7d20"
      },
      "execution_count": 9,
      "outputs": [
        {
          "output_type": "stream",
          "name": "stdout",
          "text": [
            "3/4\n"
          ]
        }
      ]
    },
    {
      "cell_type": "code",
      "source": [
        "10. Demonstrate operator overloading by creating a class Vector and overriding the add method to add two vectors."
      ],
      "metadata": {
        "id": "qZ_vMxhs2YQ4"
      },
      "execution_count": null,
      "outputs": []
    },
    {
      "cell_type": "code",
      "source": [
        "class Vector:\n",
        "    def __init__(self, x, y):\n",
        "        self.x = x\n",
        "        self.y = y\n",
        "\n",
        "    def __add__(self, other):\n",
        "        return Vector(self.x + other.x, self.y + other.y)\n",
        "\n",
        "    def __str__(self):\n",
        "        return f\"({self.x}, {self.y})\"\n",
        "\n",
        "vector1 = Vector(2, 3)\n",
        "vector2 = Vector(4, 5)\n",
        "\n",
        "vector3 = vector1 + vector2\n",
        "print(vector3)\n",
        "\n"
      ],
      "metadata": {
        "colab": {
          "base_uri": "https://localhost:8080/"
        },
        "id": "A3zi7P_A2fSR",
        "outputId": "ae00fd4a-421b-428d-d5c8-20e891913f1e"
      },
      "execution_count": 10,
      "outputs": [
        {
          "output_type": "stream",
          "name": "stdout",
          "text": [
            "(6, 8)\n"
          ]
        }
      ]
    },
    {
      "cell_type": "code",
      "source": [
        "\n",
        "11. Create a class Person with attributes name and age. Add a method greet() that prints \"Hello, my name is {name} and I am [age] years old.\"\n"
      ],
      "metadata": {
        "id": "t7uz92ew2irf"
      },
      "execution_count": null,
      "outputs": []
    },
    {
      "cell_type": "code",
      "source": [
        "class Person:\n",
        "    def __init__(self, name, age):\n",
        "        self.name = name\n",
        "        self.age = age\n",
        "\n",
        "    def greet(self):\n",
        "        print(f\"Hello, my name is {self.name} and I am {self.age} years old.\")\n",
        "\n",
        "person = Person(\"Yash\", 25)\n",
        "person.greet()"
      ],
      "metadata": {
        "colab": {
          "base_uri": "https://localhost:8080/"
        },
        "id": "O-oszhG52n86",
        "outputId": "3d1ae1ab-a625-40c2-bc30-0c9bfaa67a23"
      },
      "execution_count": 12,
      "outputs": [
        {
          "output_type": "stream",
          "name": "stdout",
          "text": [
            "Hello, my name is Yash and I am 25 years old.\n"
          ]
        }
      ]
    },
    {
      "cell_type": "code",
      "source": [
        "12. Implement a class Student with attributes name and grades. Create a method average_grade() to compute the average of the grades."
      ],
      "metadata": {
        "id": "m_2udocI2q4E"
      },
      "execution_count": null,
      "outputs": []
    },
    {
      "cell_type": "code",
      "source": [
        "class Student:\n",
        "    def __init__(self, name, grades):\n",
        "        self.name = name\n",
        "        self.grades = grades\n",
        "\n",
        "    def average_grade(self):\n",
        "        return sum(self.grades) / len(self.grades)\n",
        "\n",
        "student = Student(\"Alice\", [90, 85, 95])\n",
        "print(\"Average grade:\", student.average_grade())"
      ],
      "metadata": {
        "colab": {
          "base_uri": "https://localhost:8080/"
        },
        "id": "0FOYmGLv3Uq_",
        "outputId": "5b14786e-d394-4fa1-f62e-342e00a0be4a"
      },
      "execution_count": 13,
      "outputs": [
        {
          "output_type": "stream",
          "name": "stdout",
          "text": [
            "Average grade: 90.0\n"
          ]
        }
      ]
    },
    {
      "cell_type": "code",
      "source": [
        "13. Create a class Rectangle with methods set_dimensions() to set the dimensions and area() to calculate the area.\n"
      ],
      "metadata": {
        "id": "qV_vNQIq3Xz5"
      },
      "execution_count": null,
      "outputs": []
    },
    {
      "cell_type": "code",
      "source": [
        "class Rectangle:\n",
        "    def __init__(self):\n",
        "        self.length = 0\n",
        "        self.width = 0\n",
        "\n",
        "    def set_dimensions(self, length, width):\n",
        "        self.length = length\n",
        "        self.width = width\n",
        "\n",
        "    def area(self):\n",
        "        return self.length * self.width\n",
        "\n",
        "rectangle = Rectangle()\n",
        "rectangle.set_dimensions(4, 5)\n",
        "print(\"Area:\", rectangle.area())\n"
      ],
      "metadata": {
        "colab": {
          "base_uri": "https://localhost:8080/"
        },
        "id": "yn1h78gf3cc4",
        "outputId": "5320391d-946f-4bda-bfb4-096d69e0ac33"
      },
      "execution_count": 14,
      "outputs": [
        {
          "output_type": "stream",
          "name": "stdout",
          "text": [
            "Area: 20\n"
          ]
        }
      ]
    },
    {
      "cell_type": "code",
      "source": [
        "14. Create a class Employee with a method calculate_salary() that computes the salary based on hours worked and hourly rate. Create a derived class Manager that adds a bonus to the salary.\n"
      ],
      "metadata": {
        "id": "HESOFqSf3fcd"
      },
      "execution_count": null,
      "outputs": []
    },
    {
      "cell_type": "code",
      "source": [
        "class Employee:\n",
        "    def __init__(self, hours_worked, hourly_rate):\n",
        "        self.hours_worked = hours_worked\n",
        "        self.hourly_rate = hourly_rate\n",
        "\n",
        "    def calculate_salary(self):\n",
        "        return self.hours_worked * self.hourly_rate\n",
        "\n",
        "class Manager(Employee):\n",
        "    def __init__(self, hours_worked, hourly_rate, bonus):\n",
        "        super().__init__(hours_worked, hourly_rate)\n",
        "        self.bonus = bonus\n",
        "\n",
        "    def calculate_salary(self):\n",
        "        return super().calculate_salary() + self.bonus\n",
        "\n",
        "employee = Employee(40, 20)\n",
        "manager = Manager(40, 20, 1000)\n",
        "\n",
        "print(\"Employee salary:\", employee.calculate_salary())\n",
        "print(\"Manager salary:\", manager.calculate_salary())"
      ],
      "metadata": {
        "colab": {
          "base_uri": "https://localhost:8080/"
        },
        "id": "BCkcho7n3j1H",
        "outputId": "79dc4a5a-bc67-4f16-b5d6-9646387b6f00"
      },
      "execution_count": 15,
      "outputs": [
        {
          "output_type": "stream",
          "name": "stdout",
          "text": [
            "Employee salary: 800\n",
            "Manager salary: 1800\n"
          ]
        }
      ]
    },
    {
      "cell_type": "code",
      "source": [
        "15. Create a class Product with attributes name, price, and quantity. Implement a method total_price() that calculates the total price of the product."
      ],
      "metadata": {
        "id": "yfa033gu3nuF"
      },
      "execution_count": null,
      "outputs": []
    },
    {
      "cell_type": "code",
      "source": [
        "class Product:\n",
        "    def __init__(self, name, price, quantity):\n",
        "        self.name = name\n",
        "        self.price = price\n",
        "        self.quantity = quantity\n",
        "\n",
        "    def total_price(self):\n",
        "        return self.price * self.quantity\n",
        "\n",
        "product = Product(\"Apple\", 1.00, 5)\n",
        "print(\"Total price:\", product.total_price())\n"
      ],
      "metadata": {
        "colab": {
          "base_uri": "https://localhost:8080/"
        },
        "id": "UjF1FVac35Ll",
        "outputId": "b34d663d-17d8-45c3-f877-39881447a439"
      },
      "execution_count": 16,
      "outputs": [
        {
          "output_type": "stream",
          "name": "stdout",
          "text": [
            "Total price: 5.0\n"
          ]
        }
      ]
    },
    {
      "cell_type": "code",
      "source": [
        "16. Create a class Animal with an abstract method sound(). Create two derived classes Cow and Sheep that implement the sound() method.\n"
      ],
      "metadata": {
        "id": "hNieZ_G0387u"
      },
      "execution_count": null,
      "outputs": []
    },
    {
      "cell_type": "code",
      "source": [
        "from abc import ABC, abstractmethod\n",
        "\n",
        "class Animal(ABC):\n",
        "    @abstractmethod\n",
        "    def sound(self):\n",
        "        pass\n",
        "\n",
        "class Cow(Animal):\n",
        "    def sound(self):\n",
        "        return \"Moo\"\n",
        "\n",
        "class Sheep(Animal):\n",
        "    def sound(self):\n",
        "        return \"Baa\"\n",
        "\n",
        "cow = Cow()\n",
        "sheep = Sheep()\n",
        "\n",
        "print(\"Cow sound:\", cow.sound())\n",
        "print(\"Sheep sound:\", sheep.sound())\n",
        "\n"
      ],
      "metadata": {
        "colab": {
          "base_uri": "https://localhost:8080/"
        },
        "id": "Hh1dMbba4BV5",
        "outputId": "c5cbc004-7319-44aa-ee70-23b683d6da20"
      },
      "execution_count": 17,
      "outputs": [
        {
          "output_type": "stream",
          "name": "stdout",
          "text": [
            "Cow sound: Moo\n",
            "Sheep sound: Baa\n"
          ]
        }
      ]
    },
    {
      "cell_type": "code",
      "source": [
        "17. Create a class Book with attributes title, author, and year_published. Add a method get_book_info() that returns a formatted string with the book's details.\n"
      ],
      "metadata": {
        "id": "XqWRyc154FbT"
      },
      "execution_count": null,
      "outputs": []
    },
    {
      "cell_type": "code",
      "source": [
        "class Book:\n",
        "    def __init__(self, title, author, year_published):\n",
        "        self.title = title\n",
        "        self.author = author\n",
        "        self.year_published = year_published\n",
        "\n",
        "    def get_book_info(self):\n",
        "        return f\"'{self.title}' by {self.author}, published in {self.year_published}\"\n",
        "\n",
        "book = Book(\"To Kill a Mockingbird\", \"Harper Lee\", 1960)\n",
        "print(book.get_book_info())\n",
        "\n"
      ],
      "metadata": {
        "colab": {
          "base_uri": "https://localhost:8080/"
        },
        "id": "avuZzmXC4L9-",
        "outputId": "9d299054-b5a6-48ed-d029-ab842e69557b"
      },
      "execution_count": 18,
      "outputs": [
        {
          "output_type": "stream",
          "name": "stdout",
          "text": [
            "'To Kill a Mockingbird' by Harper Lee, published in 1960\n"
          ]
        }
      ]
    },
    {
      "cell_type": "code",
      "source": [
        "18. Create a class House with attributes address and price. Create a derived class Mansion that adds an attribute number_of_rooms.\n"
      ],
      "metadata": {
        "id": "6fWM__7n4N0Z"
      },
      "execution_count": null,
      "outputs": []
    },
    {
      "cell_type": "code",
      "source": [
        "class House:\n",
        "    def __init__(self, address, price):\n",
        "        self.address = address\n",
        "        self.price = price\n",
        "\n",
        "class Mansion(House):\n",
        "    def __init__(self, address, price, number_of_rooms):\n",
        "        super().__init__(address, price)\n",
        "        self.number_of_rooms = number_of_rooms\n",
        "\n",
        "mansion = Mansion(\"123 Main St\", 1000000, 10)\n",
        "print(\"Address:\", mansion.address)\n",
        "print(\"Price:\", mansion.price)\n",
        "print(\"Number of rooms:\", mansion.number_of_rooms)"
      ],
      "metadata": {
        "colab": {
          "base_uri": "https://localhost:8080/"
        },
        "id": "Xmq-te4g4RxF",
        "outputId": "8302de6e-fe5a-4463-b9e4-737b665105c0"
      },
      "execution_count": 19,
      "outputs": [
        {
          "output_type": "stream",
          "name": "stdout",
          "text": [
            "Address: 123 Main St\n",
            "Price: 1000000\n",
            "Number of rooms: 10\n"
          ]
        }
      ]
    },
    {
      "cell_type": "code",
      "source": [],
      "metadata": {
        "id": "DPOSA2xL4U7a"
      },
      "execution_count": null,
      "outputs": []
    }
  ]
}